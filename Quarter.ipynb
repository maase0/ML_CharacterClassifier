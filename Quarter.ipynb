{
 "metadata": {
  "language_info": {
   "codemirror_mode": {
    "name": "ipython",
    "version": 3
   },
   "file_extension": ".py",
   "mimetype": "text/x-python",
   "name": "python",
   "nbconvert_exporter": "python",
   "pygments_lexer": "ipython3",
   "version": "3.8.0-final"
  },
  "orig_nbformat": 2,
  "kernelspec": {
   "name": "python3",
   "display_name": "Python 3.8.0 64-bit ('venv')",
   "metadata": {
    "interpreter": {
     "hash": "fc6a171883505f6cf52af31efce977f648d52d3a8750cfd6622a125905379d6c"
    }
   }
  }
 },
 "nbformat": 4,
 "nbformat_minor": 2,
 "cells": [
  {
   "source": [
    "Imports"
   ],
   "cell_type": "markdown",
   "metadata": {}
  },
  {
   "cell_type": "code",
   "execution_count": 8,
   "metadata": {},
   "outputs": [],
   "source": [
    "import joblib\n",
    "import numpy as np\n",
    "import tensorflow as tf\n",
    "from collections import Counter\n",
    "\n",
    "import sys\n",
    "import os\n",
    "import random\n",
    "import math\n",
    "import random\n",
    "import multiprocessing as mp\n",
    "import gc\n",
    "import time\n",
    "import datetime\n",
    "\n",
    "from tensorflow.keras import datasets, layers, models\n",
    "\n",
    "import seaborn as sns\n",
    "\n",
    "import matplotlib\n",
    "import matplotlib.pyplot as plt\n",
    "\n",
    "from etl_data_reader.etl_data_reader import ETL_data_reader\n",
    "from etl_data_reader.etl_data_names import ETL_data_names\n",
    "from etl_data_reader.etl_character_groups import ETL_character_groups\n",
    "\n",
    "from sklearn.preprocessing import LabelBinarizer\n",
    "\n",
    "# Change matplotlib to use a Japanese font\n",
    "# to actually be able to display correctly\n",
    "matplotlib.rcParams.update(\n",
    "    {\n",
    "        'text.usetex': False,\n",
    "        'font.family': 'MS Gothic'\n",
    "    }\n",
    ")"
   ]
  },
  {
   "source": [
    "Global variables, used throughout the program"
   ],
   "cell_type": "markdown",
   "metadata": {}
  },
  {
   "cell_type": "code",
   "execution_count": 2,
   "metadata": {},
   "outputs": [],
   "source": [
    "debug = True\n",
    "num_chars = 759  #759 per part.pkl\n",
    "epochs = 150\n",
    "\n",
    "#Set the path for input data and create the reader\n",
    "path = \"./ETL_kanji\"\n",
    "reader = ETL_data_reader(path)"
   ]
  },
  {
   "cell_type": "code",
   "execution_count": 3,
   "metadata": {},
   "outputs": [],
   "source": [
    "# Debug method to see if images are loading correctly\n",
    "def show_image(img : np.array, label : str):\n",
    "    plt.figure(figsize=(2.2, 2.2))\n",
    "    plt.title(label=label)\n",
    "    plt.axis(\"off\")\n",
    "    plt.imshow(img.astype(np.float64), cmap=\"gray\")"
   ]
  },
  {
   "cell_type": "code",
   "execution_count": 4,
   "metadata": {},
   "outputs": [
    {
     "output_type": "stream",
     "name": "stderr",
     "text": []
    },
    {
     "output_type": "display_data",
     "data": {
      "text/plain": "<Figure size 158.4x158.4 with 1 Axes>",
      "image/svg+xml": "<?xml version=\"1.0\" encoding=\"utf-8\" standalone=\"no\"?>\r\n<!DOCTYPE svg PUBLIC \"-//W3C//DTD SVG 1.1//EN\"\r\n  \"http://www.w3.org/Graphics/SVG/1.1/DTD/svg11.dtd\">\r\n<!-- Created with matplotlib (https://matplotlib.org/) -->\r\n<svg height=\"149.226375pt\" version=\"1.1\" viewBox=\"0 0 133.992 149.226375\" width=\"133.992pt\" xmlns=\"http://www.w3.org/2000/svg\" xmlns:xlink=\"http://www.w3.org/1999/xlink\">\r\n <metadata>\r\n  <rdf:RDF xmlns:cc=\"http://creativecommons.org/ns#\" xmlns:dc=\"http://purl.org/dc/elements/1.1/\" xmlns:rdf=\"http://www.w3.org/1999/02/22-rdf-syntax-ns#\">\r\n   <cc:Work>\r\n    <dc:type rdf:resource=\"http://purl.org/dc/dcmitype/StillImage\"/>\r\n    <dc:date>2021-03-25T10:15:18.620013</dc:date>\r\n    <dc:format>image/svg+xml</dc:format>\r\n    <dc:creator>\r\n     <cc:Agent>\r\n      <dc:title>Matplotlib v3.3.4, https://matplotlib.org/</dc:title>\r\n     </cc:Agent>\r\n    </dc:creator>\r\n   </cc:Work>\r\n  </rdf:RDF>\r\n </metadata>\r\n <defs>\r\n  <style type=\"text/css\">*{stroke-linecap:butt;stroke-linejoin:round;}</style>\r\n </defs>\r\n <g id=\"figure_1\">\r\n  <g id=\"patch_1\">\r\n   <path d=\"M 0 149.226375 \r\nL 133.992 149.226375 \r\nL 133.992 0 \r\nL 0 0 \r\nz\r\n\" style=\"fill:none;\"/>\r\n  </g>\r\n  <g id=\"axes_1\">\r\n   <g clip-path=\"url(#p259f9c614d)\">\r\n    <image height=\"120\" id=\"imagec93a2d9383\" transform=\"scale(1 -1)translate(0 -120)\" width=\"120\" x=\"7.2\" xlink:href=\"data:image/png;base64,\r\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\" y=\"-22.026375\"/>\r\n   </g>\r\n   <g id=\"text_1\">\r\n    <!-- 営 -->\r\n    <g transform=\"translate(60.996 16.434375)scale(0.12 -0.12)\">\r\n     <defs>\r\n      <path d=\"M 76.5625 -8.203125 \r\nL 76.5625 -5.46875 \r\nL 23.046875 -5.46875 \r\nL 23.046875 -8.984375 \r\nL 15.234375 -8.984375 \r\nL 15.234375 20.703125 \r\nL 43.75 20.703125 \r\nL 46.484375 29.296875 \r\nL 32.8125 29.296875 \r\nL 32.8125 26.953125 \r\nL 25 26.953125 \r\nL 25 51.171875 \r\nL 74.609375 51.171875 \r\nL 74.609375 27.34375 \r\nL 66.796875 27.34375 \r\nL 66.796875 29.296875 \r\nL 54.296875 29.296875 \r\nL 51.5625 20.703125 \r\nL 84.375 20.703125 \r\nL 84.375 -8.203125 \r\nz\r\nM 91.796875 64.0625 \r\nL 91.796875 44.921875 \r\nL 83.984375 44.921875 \r\nL 83.984375 56.640625 \r\nL 15.234375 56.640625 \r\nL 15.234375 44.921875 \r\nL 7.421875 44.921875 \r\nL 7.421875 64.0625 \r\nL 27.34375 64.0625 \r\nQ 25.390625 68.75 20.3125 73.828125 \r\nL 26.953125 78.515625 \r\nQ 32.03125 74.21875 35.15625 68.359375 \r\nL 28.515625 64.0625 \r\nL 64.84375 64.0625 \r\nQ 69.53125 70.703125 72.265625 80.859375 \r\nL 81.25 77.734375 \r\nQ 83.59375 76.5625 80.078125 75.390625 \r\nQ 76.953125 68.75 73.046875 64.0625 \r\nz\r\nM 48.828125 80.46875 \r\nQ 53.125 77.34375 57.421875 70.3125 \r\nL 50.390625 66.015625 \r\nQ 46.484375 72.265625 42.578125 76.171875 \r\nz\r\nM 66.796875 43.75 \r\nL 32.8125 43.75 \r\nL 32.8125 36.71875 \r\nL 66.796875 36.71875 \r\nz\r\nM 23.046875 1.953125 \r\nL 76.5625 1.953125 \r\nL 76.5625 13.28125 \r\nL 23.046875 13.28125 \r\nz\r\n\" id=\"MS-Gothic-21942\"/>\r\n     </defs>\r\n     <use xlink:href=\"#MS-Gothic-21942\"/>\r\n    </g>\r\n   </g>\r\n  </g>\r\n </g>\r\n <defs>\r\n  <clipPath id=\"p259f9c614d\">\r\n   <rect height=\"119.592\" width=\"119.592\" x=\"7.2\" y=\"22.434375\"/>\r\n  </clipPath>\r\n </defs>\r\n</svg>\r\n",
      "image/png": "[encoded data removed]"
     },
     "metadata": {
      "needs_background": "light"
     }
    }
   ],
   "source": [
    "if debug:\n",
    "    sample_img, sample_lable = reader.read_dataset_file(1, ETL_data_names.ETL10, ETL_character_groups.all)\n",
    "    show_image(sample_img[200], sample_lable[200])\n",
    "    # free again\n",
    "    del(sample_img)\n",
    "    del(sample_lable)"
   ]
  },
  {
   "source": [
    "## Load the data\n",
    "Grab all the data from ETL9B (ETL10) and shuffle it"
   ],
   "cell_type": "markdown",
   "metadata": {}
  },
  {
   "cell_type": "code",
   "execution_count": 5,
   "metadata": {},
   "outputs": [
    {
     "output_type": "stream",
     "name": "stdout",
     "text": [
      "Loading all data set files (ETL10_x) from: ./ETL_kanji\\ETL10...\n",
      "(595965, 64, 64, 1) (595965,)\n"
     ]
    }
   ],
   "source": [
    "x, y =  reader.read_dataset_part(ETL_data_names.ETL10, ETL_character_groups.kanji)    # load only the relevant dataset\n",
    "#x, y = reader.read_dataset_whole([ETL_character_groups.kanji], 16)\n",
    "print(x.shape, y.shape)\n",
    "\n",
    "# because the data is ordered shuffle it\n",
    "rng_state = np.random.get_state()\n",
    "np.random.shuffle(x)\n",
    "np.random.set_state(rng_state)\n",
    "np.random.shuffle(y)"
   ]
  },
  {
   "source": [
    "One-hot-encode the labels for the CNN, save the labels for later use"
   ],
   "cell_type": "markdown",
   "metadata": {}
  },
  {
   "cell_type": "code",
   "execution_count": 9,
   "metadata": {},
   "outputs": [],
   "source": [
    "#one hot encode the labels\n",
    "lb = LabelBinarizer()\n",
    "lb.fit(y)\n",
    "o_y = lb.transform(y)\n",
    "\n",
    "# free the memory from the original string labels\n",
    "del(y)\n",
    "\n",
    "# concat classes-list to string\n",
    "classes = [i for i in lb.classes_]\n",
    "s = \"\".join([i for i in lb.classes_])\n",
    "\n",
    "# save a list of all labels into a .txt file\n",
    "with open(\"./labels.txt\", \"w+\", encoding=\"utf8\") as f:\n",
    "    f.write(s)\n",
    "    \n",
    "# a string formatted as a python list can be easily evaluated \n",
    "# therefore lets save this representation too\n",
    "with open(\"./labels_python_list.txt\", \"w+\", encoding=\"utf8\") as f:\n",
    "    f.write(str(classes))"
   ]
  },
  {
   "cell_type": "code",
   "execution_count": 10,
   "metadata": {},
   "outputs": [
    {
     "output_type": "error",
     "ename": "NameError",
     "evalue": "name 'mp' is not defined",
     "traceback": [
      "\u001b[1;31m---------------------------------------------------------------------------\u001b[0m",
      "\u001b[1;31mNameError\u001b[0m                                 Traceback (most recent call last)",
      "\u001b[1;32m<ipython-input-10-2b97302c3ff9>\u001b[0m in \u001b[0;36m<module>\u001b[1;34m\u001b[0m\n\u001b[0;32m      1\u001b[0m \u001b[1;31m# store the images in a shared array and free the loaded data\u001b[0m\u001b[1;33m\u001b[0m\u001b[1;33m\u001b[0m\u001b[1;33m\u001b[0m\u001b[0m\n\u001b[0;32m      2\u001b[0m \u001b[0mmemory_size_x\u001b[0m \u001b[1;33m=\u001b[0m \u001b[0mx\u001b[0m\u001b[1;33m.\u001b[0m\u001b[0mshape\u001b[0m\u001b[1;33m[\u001b[0m\u001b[1;36m0\u001b[0m\u001b[1;33m]\u001b[0m \u001b[1;33m*\u001b[0m \u001b[0mx\u001b[0m\u001b[1;33m.\u001b[0m\u001b[0mshape\u001b[0m\u001b[1;33m[\u001b[0m\u001b[1;36m1\u001b[0m\u001b[1;33m]\u001b[0m \u001b[1;33m*\u001b[0m \u001b[0mx\u001b[0m\u001b[1;33m.\u001b[0m\u001b[0mshape\u001b[0m\u001b[1;33m[\u001b[0m\u001b[1;36m2\u001b[0m\u001b[1;33m]\u001b[0m \u001b[1;33m*\u001b[0m \u001b[0mx\u001b[0m\u001b[1;33m.\u001b[0m\u001b[0mshape\u001b[0m\u001b[1;33m[\u001b[0m\u001b[1;36m3\u001b[0m\u001b[1;33m]\u001b[0m\u001b[1;33m\u001b[0m\u001b[1;33m\u001b[0m\u001b[0m\n\u001b[1;32m----> 3\u001b[1;33m \u001b[0mx_shared\u001b[0m \u001b[1;33m=\u001b[0m \u001b[0mmp\u001b[0m\u001b[1;33m.\u001b[0m\u001b[0mRawArray\u001b[0m\u001b[1;33m(\u001b[0m\u001b[1;34m\"f\"\u001b[0m\u001b[1;33m,\u001b[0m \u001b[0mmemory_size_x\u001b[0m \u001b[1;33m//\u001b[0m \u001b[1;36m2\u001b[0m\u001b[1;33m)\u001b[0m\u001b[1;33m\u001b[0m\u001b[1;33m\u001b[0m\u001b[0m\n\u001b[0m\u001b[0;32m      4\u001b[0m \u001b[0mx_np\u001b[0m \u001b[1;33m=\u001b[0m \u001b[0mnp\u001b[0m\u001b[1;33m.\u001b[0m\u001b[0mfrombuffer\u001b[0m\u001b[1;33m(\u001b[0m\u001b[0mx_shared\u001b[0m\u001b[1;33m,\u001b[0m \u001b[0mdtype\u001b[0m\u001b[1;33m=\u001b[0m\u001b[1;34m\"float16\"\u001b[0m\u001b[1;33m)\u001b[0m\u001b[1;33m.\u001b[0m\u001b[0mreshape\u001b[0m\u001b[1;33m(\u001b[0m\u001b[0mx\u001b[0m\u001b[1;33m.\u001b[0m\u001b[0mshape\u001b[0m\u001b[1;33m)\u001b[0m\u001b[1;33m\u001b[0m\u001b[1;33m\u001b[0m\u001b[0m\n\u001b[0;32m      5\u001b[0m \u001b[0mnp\u001b[0m\u001b[1;33m.\u001b[0m\u001b[0mcopyto\u001b[0m\u001b[1;33m(\u001b[0m\u001b[0mx_np\u001b[0m\u001b[1;33m,\u001b[0m \u001b[0mx\u001b[0m\u001b[1;33m)\u001b[0m\u001b[1;33m\u001b[0m\u001b[1;33m\u001b[0m\u001b[0m\n",
      "\u001b[1;31mNameError\u001b[0m: name 'mp' is not defined"
     ]
    }
   ],
   "source": [
    "# store the images in a shared array and free the loaded data\n",
    "memory_size_x = x.shape[0] * x.shape[1] * x.shape[2] * x.shape[3]\n",
    "x_shared = mp.RawArray(\"f\", memory_size_x // 2)\n",
    "x_np = np.frombuffer(x_shared, dtype=\"float16\").reshape(x.shape)\n",
    "np.copyto(x_np, x)\n",
    "del(x)\n",
    "\n",
    "# store the labels in a shared array and free the loaded data\n",
    "memory_size_y = o_y.shape[0] * o_y.shape[1]\n",
    "y_shared = mp.RawArray('b', memory_size_y)\n",
    "y_np = np.frombuffer(y_shared, dtype=\"b\").reshape(o_y.shape)\n",
    "np.copyto(y_np, o_y)\n",
    "del(o_y)\n",
    "\n",
    "gc.collect()\n",
    "\n",
    "if debug:\n",
    "    show_image(x_np[200], lb.inverse_transform(np.array([y_np[200]])))"
   ]
  },
  {
   "source": [
    "Load data, print some for verification"
   ],
   "cell_type": "markdown",
   "metadata": {}
  },
  {
   "cell_type": "code",
   "execution_count": null,
   "metadata": {},
   "outputs": [],
   "source": [
    "'''\n",
    "#data = joblib.load(f'{base_name}_{width}x{width}px.pkl.part1')\n",
    "data = joblib.load('./Input/all_characters_64x64px.pkl.part1')\n",
    "\n",
    "if debug:\n",
    "    print('Number of samples: ', len(data['data']))\n",
    "    print('keys: ', list(data.keys()))\n",
    "    print('description: ', data['description'])\n",
    "    print('image shape: ', data['data'][0].shape)\n",
    "    print('labels:', np.unique(data['label']))\n",
    "\n",
    "    #Counter(data['label'])\n",
    "\n",
    "\n",
    "    plt.figure(figsize=(10,10))\n",
    "    for i in range(25):\n",
    "        index = random.randint(0, len(data['data']) - 1)\n",
    "        plt.subplot(5,5,i+1)\n",
    "        plt.xticks([])\n",
    "        plt.yticks([])\n",
    "        plt.grid(False)\n",
    "        plt.imshow(data['data'][index], cmap=plt.cm.binary)\n",
    "        # The CIFAR labels happen to be arrays, \n",
    "        # which is why you need the extra index\n",
    "        plt.xlabel(data['label'][index])\n",
    "    plt.show()\n",
    "'''"
   ]
  },
  {
   "source": [
    "Split data into training and test"
   ],
   "cell_type": "markdown",
   "metadata": {}
  },
  {
   "cell_type": "code",
   "execution_count": null,
   "metadata": {},
   "outputs": [],
   "source": [
    "from sklearn.model_selection import train_test_split\n",
    "\n",
    "#X = np.array(data['data'])\n",
    "#y = np.array(data['label'])\n",
    "\n",
    "n_samples = len(data['data'])\n",
    "\n",
    "\n",
    "X_train, X_test, y_train, y_test = train_test_split(\n",
    "    np.array(data['data'][:num_chars*200]),\n",
    "    np.array(data['label'][:num_chars*200]),\n",
    "    test_size=0.2,\n",
    "    shuffle=True,\n",
    "    random_state=42)\n",
    "\n",
    "del data\n",
    "\n",
    "X_train = X_train.reshape(X_train.shape[0], 64, 64, 1)\n",
    "X_test = X_test.reshape(X_test.shape[0], 64, 64, 1)\n",
    "\n",
    "print(f'X_test: {len(X_test)}, X_train: {len(X_train)}')\n",
    "\n"
   ]
  },
  {
   "source": [
    "Change labels from strings to numbers so tensorflow can use them"
   ],
   "cell_type": "markdown",
   "metadata": {}
  },
  {
   "cell_type": "code",
   "execution_count": null,
   "metadata": {},
   "outputs": [],
   "source": [
    "from sklearn import preprocessing\n",
    "\n",
    "le = preprocessing.LabelEncoder()\n",
    "\n",
    "y_train = le.fit_transform(y_train)\n",
    "y_test = le.fit_transform(y_test)"
   ]
  },
  {
   "source": [
    "Create the model"
   ],
   "cell_type": "markdown",
   "metadata": {}
  },
  {
   "cell_type": "code",
   "execution_count": null,
   "metadata": {},
   "outputs": [],
   "source": [
    "model = models.Sequential()\n",
    "\n",
    "'''\n",
    "model.add(layers.Conv2D(32, (3, 3), activation='relu', input_shape=(64, 64, 1)))\n",
    "model.add(layers.MaxPooling2D((2, 2)))\n",
    "model.add(layers.Conv2D(64, (3, 3), activation='relu'))\n",
    "model.add(layers.MaxPooling2D((2, 2)))\n",
    "model.add(layers.Conv2D(64, (3, 3), activation='relu'))\n",
    "\n",
    "model.add(layers.Flatten())\n",
    "\n",
    "model.add(layers.Dense(4096, activation='relu'))\n",
    "model.add(layers.Dense(4096, activation='relu'))\n",
    "model.add(layers.Dense(4096, activation='relu'))\n",
    "#model.add(layers.Dense(4096, activation='relu'))\n",
    "#model.add(layers.Dense(2048, activation='relu'))\n",
    "model.add(layers.Dense(2048, activation='relu'))\n",
    "'''\n",
    "\n",
    "'''\n",
    "model.add(layers.Conv2D(32, (3, 3), activation='relu', input_shape=(64, 64, 1)))\n",
    "model.add(layers.Conv2D(32, (3, 3), activation='relu'))\n",
    "model.add(layers.MaxPooling2D((2, 2)))\n",
    "\n",
    "model.add(layers.Conv2D(32, (3, 3), activation='relu'))\n",
    "model.add(layers.Conv2D(32, (3, 3), activation='relu'))\n",
    "model.add(layers.MaxPooling2D((2, 2)))\n",
    "\n",
    "model.add(layers.Conv2D(64, (3, 3), activation='relu'))\n",
    "model.add(layers.Conv2D(64, (3, 3), activation='relu'))\n",
    "model.add(layers.MaxPooling2D((2, 2)))\n",
    "\n",
    "\n",
    "\n",
    "model.add(layers.Conv2D(256, (3, 3), activation='relu'))\n",
    "model.add(layers.MaxPooling2D((2, 2)))\n",
    "\n",
    "\n",
    "model.add(layers.Flatten())\n",
    "\n",
    "model.add(layers.Dense(2048, activation='relu'))\n",
    "model.add(layers.Dropout(0.25))\n",
    "model.add(layers.Dense(2048, activation='relu'))\n",
    "model.add(layers.Dropout(0.25))\n",
    "\n",
    "\n",
    "model.add(layers.Dense(num_chars))\n",
    "'''\n",
    "\n",
    "model = tf.keras.models.Sequential([\n",
    "        tf.keras.layers.Conv2D(input_shape=(64, 64, 1), kernel_size=3, activation='relu', filters=32, name=\"conv2D_1_2_input\"),\n",
    "        tf.keras.layers.Conv2D(kernel_size=3, activation='relu', filters=32, name=\"conv2D_1_1\"),\n",
    "        tf.keras.layers.Conv2D(kernel_size=3, activation='relu', filters=32, name=\"conv2D_1_2\"),\n",
    "        tf.keras.layers.MaxPool2D(pool_size=(2, 2), strides=2, name=\"maxpool_1\"),\n",
    "\n",
    "        tf.keras.layers.Conv2D(kernel_size=3, activation='relu', filters=32, name=\"conv2D_2_1\"),\n",
    "        tf.keras.layers.Conv2D(kernel_size=3, activation='relu', filters=32, name=\"conv2D_2_2\"),\n",
    "\n",
    "        tf.keras.layers.Conv2D(kernel_size=3, activation='relu', filters=64, name=\"conv2D_3_1\"),\n",
    "        tf.keras.layers.Conv2D(kernel_size=3, activation='relu', filters=64, name=\"conv2D_3_2\"),\n",
    "        tf.keras.layers.MaxPool2D(pool_size=(2, 2), strides=2, name=\"maxpool_3\"),\n",
    "\n",
    "        tf.keras.layers.Conv2D(kernel_size=3, activation='relu', filters=128, name=\"conv2D_4_1\"),\n",
    "        tf.keras.layers.MaxPool2D(pool_size=(2, 2), strides=2, name=\"maxpool_4\"),\n",
    "\n",
    "        tf.keras.layers.Flatten(name=\"flatten_1\"),\n",
    "        tf.keras.layers.Dropout(0.25, name=\"dropout_1\"),\n",
    "        \n",
    "        tf.keras.layers.Dense(2048, name=\"dense_1\"),\n",
    "        tf.keras.layers.Dropout(0.1, name=\"dropout_2\"),\n",
    "        tf.keras.layers.Dense(2048, name=\"densfasave_1\"),\n",
    "        tf.keras.layers.Dropout(0.1, name=\"dropourstat_2\"),\n",
    "\n",
    "        tf.keras.layers.Dense(2048, name=\"dense_2\"),\n",
    "        tf.keras.layers.Dropout(0.25, name=\"dropout_3\"),\n",
    "        tf.keras.layers.Dense(2048, name=\"densearst_2\"),\n",
    "        tf.keras.layers.Dropout(0.25, name=\"dropouart_3\"),\n",
    "\n",
    "        tf.keras.layers.Dense(num_chars, name=\"dense_3\"),\n",
    "\n",
    "        #set the dtype to float32 for numerical stability\n",
    "        tf.keras.layers.Softmax(dtype=\"float32\", name=\"softmax_1_output\") \n",
    "    ], name=\"model\")\n",
    "\n",
    "if debug:\n",
    "    model.summary()"
   ]
  },
  {
   "source": [
    "Train the model"
   ],
   "cell_type": "markdown",
   "metadata": {}
  },
  {
   "cell_type": "code",
   "execution_count": null,
   "metadata": {
    "tags": []
   },
   "outputs": [],
   "source": [
    "optimizer = tf.keras.optimizers.Adam(learning_rate=0.0001,\n",
    "                                beta_1=0.9,\n",
    "                                beta_2=0.999,\n",
    "                                epsilon=1e-08,)\n",
    "\n",
    "\n",
    "model.compile(optimizer=optimizer,\n",
    "              loss=tf.keras.losses.SparseCategoricalCrossentropy(from_logits=True),\n",
    "              metrics=['accuracy'])\n",
    "\n",
    "history = model.fit(X_train, y_train, epochs=epochs, \n",
    "                    validation_data=(X_test, y_test))"
   ]
  },
  {
   "source": [
    "Display model information"
   ],
   "cell_type": "markdown",
   "metadata": {}
  },
  {
   "cell_type": "code",
   "execution_count": null,
   "metadata": {},
   "outputs": [],
   "source": [
    "plt.plot(history.history['accuracy'], label='accuracy')\n",
    "plt.plot(history.history['val_accuracy'], label = 'val_accuracy')\n",
    "plt.xlabel('Epoch')\n",
    "plt.ylabel('Accuracy')\n",
    "plt.ylim([0.0, 1.0])\n",
    "plt.legend(loc='lower right')\n",
    "\n",
    "test_loss, test_acc = model.evaluate(X_test,  y_test, verbose=2)\n",
    "\n",
    "print(test_acc)"
   ]
  },
  {
   "cell_type": "code",
   "execution_count": null,
   "metadata": {},
   "outputs": [],
   "source": [
    "debug = False\n",
    "\n",
    "if debug:\n",
    "    y_pred = np.argmax(model.predict(X_test), axis=1)\n",
    "    y_true = y_test\n",
    "    \n",
    "    #y_pred = le.inverse_transform(y_pred)\n",
    "    #y_true = le.inverse_transform(y_test)\n",
    "\n",
    "    labels = np.unique(le.inverse_transform(y_test))\n",
    "\n",
    "    conf_mtx = tf.math.confusion_matrix(y_true, y_pred)\n",
    "    plt.figure(figsize=(100, 80))\n",
    "    sns.heatmap(conf_mtx, xticklabels=labels, yticklabels=labels, \n",
    "                annot=True, fmt='g')\n",
    "    plt.xlabel('Prediction')\n",
    "    plt.ylabel('Label')\n",
    "    plt.show()\n"
   ]
  },
  {
   "cell_type": "code",
   "execution_count": null,
   "metadata": {},
   "outputs": [],
   "source": []
  }
 ]
}